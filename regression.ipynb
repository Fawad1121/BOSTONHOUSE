{
 "cells": [
  {
   "cell_type": "code",
   "execution_count": null,
   "id": "9f51816a",
   "metadata": {},
   "outputs": [
    {
     "ename": "",
     "evalue": "",
     "output_type": "error",
     "traceback": [
      "\u001b[1;31mRunning cells with 'd:\\EndTOENDML\\BOSTONHOUSE\\venv\\python.exe' requires ipykernel package.\n",
      "\u001b[1;31mRun the following command to install 'ipykernel' into the Python environment. \n",
      "\u001b[1;31mCommand: 'conda install -p d:\\EndTOENDML\\BOSTONHOUSE\\venv ipykernel --update-deps --force-reinstall'"
     ]
    }
   ],
   "source": [
    "\n",
    "import pandas as pd\n",
    "import numpy as np\n",
    "import matplotlib.pyplot as plt\n",
    "%matplotlib inline\n"
   ]
  },
  {
   "cell_type": "code",
   "execution_count": null,
   "id": "9a5b15b1",
   "metadata": {},
   "outputs": [
    {
     "ename": "",
     "evalue": "",
     "output_type": "error",
     "traceback": [
      "\u001b[1;31mRunning cells with 'd:\\EndTOENDML\\BOSTONHOUSE\\venv\\python.exe' requires ipykernel package.\n",
      "\u001b[1;31mRun the following command to install 'ipykernel' into the Python environment. \n",
      "\u001b[1;31mCommand: 'conda install -p d:\\EndTOENDML\\BOSTONHOUSE\\venv ipykernel --update-deps --force-reinstall'"
     ]
    }
   ],
   "source": [
    "from sklearn.datasets import load_boston\n"
   ]
  },
  {
   "cell_type": "code",
   "execution_count": null,
   "id": "d4944ef7",
   "metadata": {},
   "outputs": [
    {
     "ename": "",
     "evalue": "",
     "output_type": "error",
     "traceback": [
      "\u001b[1;31mRunning cells with 'd:\\EndTOENDML\\BOSTONHOUSE\\venv\\python.exe' requires ipykernel package.\n",
      "\u001b[1;31mRun the following command to install 'ipykernel' into the Python environment. \n",
      "\u001b[1;31mCommand: 'conda install -p d:\\EndTOENDML\\BOSTONHOUSE\\venv ipykernel --update-deps --force-reinstall'"
     ]
    }
   ],
   "source": [
    "boston=load_boston()"
   ]
  },
  {
   "cell_type": "code",
   "execution_count": null,
   "id": "ecdaf28d",
   "metadata": {},
   "outputs": [
    {
     "ename": "",
     "evalue": "",
     "output_type": "error",
     "traceback": [
      "\u001b[1;31mRunning cells with 'd:\\EndTOENDML\\BOSTONHOUSE\\venv\\python.exe' requires ipykernel package.\n",
      "\u001b[1;31mRun the following command to install 'ipykernel' into the Python environment. \n",
      "\u001b[1;31mCommand: 'conda install -p d:\\EndTOENDML\\BOSTONHOUSE\\venv ipykernel --update-deps --force-reinstall'"
     ]
    }
   ],
   "source": [
    "## lets chek the disciption of the dataset"
   ]
  },
  {
   "cell_type": "code",
   "execution_count": null,
   "id": "4036f5e7",
   "metadata": {},
   "outputs": [
    {
     "ename": "",
     "evalue": "",
     "output_type": "error",
     "traceback": [
      "\u001b[1;31mRunning cells with 'd:\\EndTOENDML\\BOSTONHOUSE\\venv\\python.exe' requires ipykernel package.\n",
      "\u001b[1;31mRun the following command to install 'ipykernel' into the Python environment. \n",
      "\u001b[1;31mCommand: 'conda install -p d:\\EndTOENDML\\BOSTONHOUSE\\venv ipykernel --update-deps --force-reinstall'"
     ]
    }
   ],
   "source": [
    "print(boston.DESCR)"
   ]
  },
  {
   "cell_type": "code",
   "execution_count": null,
   "id": "ed2e1300",
   "metadata": {},
   "outputs": [
    {
     "ename": "",
     "evalue": "",
     "output_type": "error",
     "traceback": [
      "\u001b[1;31mRunning cells with 'd:\\EndTOENDML\\BOSTONHOUSE\\venv\\python.exe' requires ipykernel package.\n",
      "\u001b[1;31mRun the following command to install 'ipykernel' into the Python environment. \n",
      "\u001b[1;31mCommand: 'conda install -p d:\\EndTOENDML\\BOSTONHOUSE\\venv ipykernel --update-deps --force-reinstall'"
     ]
    }
   ],
   "source": [
    "\n",
    "boston.keys()"
   ]
  },
  {
   "cell_type": "code",
   "execution_count": null,
   "id": "23019ee7",
   "metadata": {},
   "outputs": [
    {
     "ename": "",
     "evalue": "",
     "output_type": "error",
     "traceback": [
      "\u001b[1;31mRunning cells with 'd:\\EndTOENDML\\BOSTONHOUSE\\venv\\python.exe' requires ipykernel package.\n",
      "\u001b[1;31mRun the following command to install 'ipykernel' into the Python environment. \n",
      "\u001b[1;31mCommand: 'conda install -p d:\\EndTOENDML\\BOSTONHOUSE\\venv ipykernel --update-deps --force-reinstall'"
     ]
    }
   ],
   "source": [
    "print(boston.data)"
   ]
  },
  {
   "cell_type": "code",
   "execution_count": null,
   "id": "a89bec41",
   "metadata": {},
   "outputs": [
    {
     "ename": "",
     "evalue": "",
     "output_type": "error",
     "traceback": [
      "\u001b[1;31mRunning cells with 'd:\\EndTOENDML\\BOSTONHOUSE\\venv\\python.exe' requires ipykernel package.\n",
      "\u001b[1;31mRun the following command to install 'ipykernel' into the Python environment. \n",
      "\u001b[1;31mCommand: 'conda install -p d:\\EndTOENDML\\BOSTONHOUSE\\venv ipykernel --update-deps --force-reinstall'"
     ]
    }
   ],
   "source": [
    "print(boston.target)\n"
   ]
  },
  {
   "cell_type": "code",
   "execution_count": null,
   "id": "24fabfc9",
   "metadata": {},
   "outputs": [
    {
     "ename": "",
     "evalue": "",
     "output_type": "error",
     "traceback": [
      "\u001b[1;31mRunning cells with 'd:\\EndTOENDML\\BOSTONHOUSE\\venv\\python.exe' requires ipykernel package.\n",
      "\u001b[1;31mRun the following command to install 'ipykernel' into the Python environment. \n",
      "\u001b[1;31mCommand: 'conda install -p d:\\EndTOENDML\\BOSTONHOUSE\\venv ipykernel --update-deps --force-reinstall'"
     ]
    }
   ],
   "source": [
    "boston.feature_names"
   ]
  },
  {
   "cell_type": "markdown",
   "id": "835753a2",
   "metadata": {},
   "source": [
    "# Preparing the Dataset"
   ]
  },
  {
   "cell_type": "code",
   "execution_count": null,
   "id": "c2244025",
   "metadata": {},
   "outputs": [
    {
     "ename": "",
     "evalue": "",
     "output_type": "error",
     "traceback": [
      "\u001b[1;31mRunning cells with 'd:\\EndTOENDML\\BOSTONHOUSE\\venv\\python.exe' requires ipykernel package.\n",
      "\u001b[1;31mRun the following command to install 'ipykernel' into the Python environment. \n",
      "\u001b[1;31mCommand: 'conda install -p d:\\EndTOENDML\\BOSTONHOUSE\\venv ipykernel --update-deps --force-reinstall'"
     ]
    }
   ],
   "source": [
    "dataset=pd.DataFrame(boston.data,columns=boston.feature_names)\n"
   ]
  },
  {
   "cell_type": "code",
   "execution_count": null,
   "id": "64e6a8ec",
   "metadata": {},
   "outputs": [
    {
     "ename": "",
     "evalue": "",
     "output_type": "error",
     "traceback": [
      "\u001b[1;31mRunning cells with 'd:\\EndTOENDML\\BOSTONHOUSE\\venv\\python.exe' requires ipykernel package.\n",
      "\u001b[1;31mRun the following command to install 'ipykernel' into the Python environment. \n",
      "\u001b[1;31mCommand: 'conda install -p d:\\EndTOENDML\\BOSTONHOUSE\\venv ipykernel --update-deps --force-reinstall'"
     ]
    }
   ],
   "source": [
    "dataset.head()\n"
   ]
  },
  {
   "cell_type": "code",
   "execution_count": null,
   "id": "5b60997d",
   "metadata": {},
   "outputs": [
    {
     "ename": "",
     "evalue": "",
     "output_type": "error",
     "traceback": [
      "\u001b[1;31mRunning cells with 'd:\\EndTOENDML\\BOSTONHOUSE\\venv\\python.exe' requires ipykernel package.\n",
      "\u001b[1;31mRun the following command to install 'ipykernel' into the Python environment. \n",
      "\u001b[1;31mCommand: 'conda install -p d:\\EndTOENDML\\BOSTONHOUSE\\venv ipykernel --update-deps --force-reinstall'"
     ]
    }
   ],
   "source": [
    "dataset['Price']=boston.target\n"
   ]
  },
  {
   "cell_type": "code",
   "execution_count": null,
   "id": "3336b371",
   "metadata": {},
   "outputs": [
    {
     "ename": "",
     "evalue": "",
     "output_type": "error",
     "traceback": [
      "\u001b[1;31mRunning cells with 'd:\\EndTOENDML\\BOSTONHOUSE\\venv\\python.exe' requires ipykernel package.\n",
      "\u001b[1;31mRun the following command to install 'ipykernel' into the Python environment. \n",
      "\u001b[1;31mCommand: 'conda install -p d:\\EndTOENDML\\BOSTONHOUSE\\venv ipykernel --update-deps --force-reinstall'"
     ]
    }
   ],
   "source": [
    "dataset.head()\n"
   ]
  },
  {
   "cell_type": "code",
   "execution_count": null,
   "id": "b11601b4",
   "metadata": {},
   "outputs": [
    {
     "ename": "",
     "evalue": "",
     "output_type": "error",
     "traceback": [
      "\u001b[1;31mRunning cells with 'd:\\EndTOENDML\\BOSTONHOUSE\\venv\\python.exe' requires ipykernel package.\n",
      "\u001b[1;31mRun the following command to install 'ipykernel' into the Python environment. \n",
      "\u001b[1;31mCommand: 'conda install -p d:\\EndTOENDML\\BOSTONHOUSE\\venv ipykernel --update-deps --force-reinstall'"
     ]
    }
   ],
   "source": [
    "dataset.info()\n"
   ]
  },
  {
   "cell_type": "code",
   "execution_count": null,
   "id": "1d26af6e",
   "metadata": {},
   "outputs": [
    {
     "ename": "",
     "evalue": "",
     "output_type": "error",
     "traceback": [
      "\u001b[1;31mRunning cells with 'd:\\EndTOENDML\\BOSTONHOUSE\\venv\\python.exe' requires ipykernel package.\n",
      "\u001b[1;31mRun the following command to install 'ipykernel' into the Python environment. \n",
      "\u001b[1;31mCommand: 'conda install -p d:\\EndTOENDML\\BOSTONHOUSE\\venv ipykernel --update-deps --force-reinstall'"
     ]
    }
   ],
   "source": [
    "## summarinsing stats of the data\n",
    "dataset.describe()"
   ]
  },
  {
   "cell_type": "code",
   "execution_count": null,
   "id": "264d289d",
   "metadata": {},
   "outputs": [
    {
     "ename": "",
     "evalue": "",
     "output_type": "error",
     "traceback": [
      "\u001b[1;31mRunning cells with 'd:\\EndTOENDML\\BOSTONHOUSE\\venv\\python.exe' requires ipykernel package.\n",
      "\u001b[1;31mRun the following command to install 'ipykernel' into the Python environment. \n",
      "\u001b[1;31mCommand: 'conda install -p d:\\EndTOENDML\\BOSTONHOUSE\\venv ipykernel --update-deps --force-reinstall'"
     ]
    }
   ],
   "source": [
    "## Check Missing values\n",
    "dataset.isnull().sum()"
   ]
  },
  {
   "cell_type": "code",
   "execution_count": null,
   "id": "fe8c9030",
   "metadata": {},
   "outputs": [
    {
     "ename": "",
     "evalue": "",
     "output_type": "error",
     "traceback": [
      "\u001b[1;31mRunning cells with 'd:\\EndTOENDML\\BOSTONHOUSE\\venv\\python.exe' requires ipykernel package.\n",
      "\u001b[1;31mRun the following command to install 'ipykernel' into the Python environment. \n",
      "\u001b[1;31mCommand: 'conda install -p d:\\EndTOENDML\\BOSTONHOUSE\\venv ipykernel --update-deps --force-reinstall'"
     ]
    }
   ],
   "source": [
    "### EDA\n",
    "### Corellation super important in any regression problem\n",
    "\n",
    "dataset.corr()"
   ]
  },
  {
   "cell_type": "code",
   "execution_count": null,
   "id": "a9a74035",
   "metadata": {},
   "outputs": [
    {
     "ename": "",
     "evalue": "",
     "output_type": "error",
     "traceback": [
      "\u001b[1;31mRunning cells with 'd:\\EndTOENDML\\BOSTONHOUSE\\venv\\python.exe' requires ipykernel package.\n",
      "\u001b[1;31mRun the following command to install 'ipykernel' into the Python environment. \n",
      "\u001b[1;31mCommand: 'conda install -p d:\\EndTOENDML\\BOSTONHOUSE\\venv ipykernel --update-deps --force-reinstall'"
     ]
    }
   ],
   "source": [
    "import seaborn as sns \n",
    "sns.pairplot(dataset)"
   ]
  },
  {
   "cell_type": "code",
   "execution_count": null,
   "id": "69fbd789",
   "metadata": {},
   "outputs": [
    {
     "ename": "",
     "evalue": "",
     "output_type": "error",
     "traceback": [
      "\u001b[1;31mRunning cells with 'd:\\EndTOENDML\\BOSTONHOUSE\\venv\\python.exe' requires ipykernel package.\n",
      "\u001b[1;31mRun the following command to install 'ipykernel' into the Python environment. \n",
      "\u001b[1;31mCommand: 'conda install -p d:\\EndTOENDML\\BOSTONHOUSE\\venv ipykernel --update-deps --force-reinstall'"
     ]
    }
   ],
   "source": [
    "#inverse correlated\n",
    "plt.scatter(dataset['Price'],dataset['CRIM'])\n",
    "plt.xlabel(\"Price Rate\")\n",
    "plt.ylabel(\"Crime rate\")"
   ]
  },
  {
   "cell_type": "code",
   "execution_count": null,
   "id": "c6b4e885",
   "metadata": {},
   "outputs": [
    {
     "ename": "",
     "evalue": "",
     "output_type": "error",
     "traceback": [
      "\u001b[1;31mRunning cells with 'd:\\EndTOENDML\\BOSTONHOUSE\\venv\\python.exe' requires ipykernel package.\n",
      "\u001b[1;31mRun the following command to install 'ipykernel' into the Python environment. \n",
      "\u001b[1;31mCommand: 'conda install -p d:\\EndTOENDML\\BOSTONHOUSE\\venv ipykernel --update-deps --force-reinstall'"
     ]
    }
   ],
   "source": [
    "plt.scatter(dataset['Price'],dataset['RM'])\n",
    "plt.xlabel(\"Price Rate\")\n",
    "plt.ylabel(\"no of room\")"
   ]
  },
  {
   "cell_type": "code",
   "execution_count": null,
   "id": "17c7c0f2",
   "metadata": {},
   "outputs": [
    {
     "ename": "",
     "evalue": "",
     "output_type": "error",
     "traceback": [
      "\u001b[1;31mRunning cells with 'd:\\EndTOENDML\\BOSTONHOUSE\\venv\\python.exe' requires ipykernel package.\n",
      "\u001b[1;31mRun the following command to install 'ipykernel' into the Python environment. \n",
      "\u001b[1;31mCommand: 'conda install -p d:\\EndTOENDML\\BOSTONHOUSE\\venv ipykernel --update-deps --force-reinstall'"
     ]
    }
   ],
   "source": [
    "import seaborn as sns \n",
    "sns.regplot(x=\"RM\",y=\"Price\",data=dataset)\n"
   ]
  },
  {
   "cell_type": "code",
   "execution_count": null,
   "id": "42a37813",
   "metadata": {},
   "outputs": [
    {
     "ename": "",
     "evalue": "",
     "output_type": "error",
     "traceback": [
      "\u001b[1;31mRunning cells with 'd:\\EndTOENDML\\BOSTONHOUSE\\venv\\python.exe' requires ipykernel package.\n",
      "\u001b[1;31mRun the following command to install 'ipykernel' into the Python environment. \n",
      "\u001b[1;31mCommand: 'conda install -p d:\\EndTOENDML\\BOSTONHOUSE\\venv ipykernel --update-deps --force-reinstall'"
     ]
    }
   ],
   "source": [
    "sns.regplot(x=\"LSTAT\",y=\"Price\",data=dataset)"
   ]
  },
  {
   "cell_type": "code",
   "execution_count": null,
   "id": "88a69cd8",
   "metadata": {},
   "outputs": [
    {
     "ename": "",
     "evalue": "",
     "output_type": "error",
     "traceback": [
      "\u001b[1;31mRunning cells with 'd:\\EndTOENDML\\BOSTONHOUSE\\venv\\python.exe' requires ipykernel package.\n",
      "\u001b[1;31mRun the following command to install 'ipykernel' into the Python environment. \n",
      "\u001b[1;31mCommand: 'conda install -p d:\\EndTOENDML\\BOSTONHOUSE\\venv ipykernel --update-deps --force-reinstall'"
     ]
    }
   ],
   "source": [
    "# linearty shoud be there for regrression model\n"
   ]
  },
  {
   "cell_type": "code",
   "execution_count": null,
   "id": "724bd01b",
   "metadata": {},
   "outputs": [
    {
     "ename": "",
     "evalue": "",
     "output_type": "error",
     "traceback": [
      "\u001b[1;31mRunning cells with 'd:\\EndTOENDML\\BOSTONHOUSE\\venv\\python.exe' requires ipykernel package.\n",
      "\u001b[1;31mRun the following command to install 'ipykernel' into the Python environment. \n",
      "\u001b[1;31mCommand: 'conda install -p d:\\EndTOENDML\\BOSTONHOUSE\\venv ipykernel --update-deps --force-reinstall'"
     ]
    }
   ],
   "source": [
    "sns.regplot(x=\"CHAS\",y=\"Price\",data=dataset)\n"
   ]
  },
  {
   "cell_type": "code",
   "execution_count": null,
   "id": "1ec17145",
   "metadata": {},
   "outputs": [
    {
     "ename": "",
     "evalue": "",
     "output_type": "error",
     "traceback": [
      "\u001b[1;31mRunning cells with 'd:\\EndTOENDML\\BOSTONHOUSE\\venv\\python.exe' requires ipykernel package.\n",
      "\u001b[1;31mRun the following command to install 'ipykernel' into the Python environment. \n",
      "\u001b[1;31mCommand: 'conda install -p d:\\EndTOENDML\\BOSTONHOUSE\\venv ipykernel --update-deps --force-reinstall'"
     ]
    }
   ],
   "source": [
    "sns.regplot(x=\"PTRATIO\",y=\"Price\",data=dataset)\n"
   ]
  },
  {
   "cell_type": "code",
   "execution_count": null,
   "id": "ab933eaa",
   "metadata": {},
   "outputs": [
    {
     "ename": "",
     "evalue": "",
     "output_type": "error",
     "traceback": [
      "\u001b[1;31mRunning cells with 'd:\\EndTOENDML\\BOSTONHOUSE\\venv\\python.exe' requires ipykernel package.\n",
      "\u001b[1;31mRun the following command to install 'ipykernel' into the Python environment. \n",
      "\u001b[1;31mCommand: 'conda install -p d:\\EndTOENDML\\BOSTONHOUSE\\venv ipykernel --update-deps --force-reinstall'"
     ]
    }
   ],
   "source": [
    "# independent and dependent features\n",
    "\n",
    "x=dataset.iloc[:,:-1]\n",
    "y=dataset.iloc[:,-1]\n"
   ]
  },
  {
   "cell_type": "code",
   "execution_count": null,
   "id": "aa8a1136",
   "metadata": {},
   "outputs": [
    {
     "ename": "",
     "evalue": "",
     "output_type": "error",
     "traceback": [
      "\u001b[1;31mRunning cells with 'd:\\EndTOENDML\\BOSTONHOUSE\\venv\\python.exe' requires ipykernel package.\n",
      "\u001b[1;31mRun the following command to install 'ipykernel' into the Python environment. \n",
      "\u001b[1;31mCommand: 'conda install -p d:\\EndTOENDML\\BOSTONHOUSE\\venv ipykernel --update-deps --force-reinstall'"
     ]
    }
   ],
   "source": [
    "x.head()\n"
   ]
  },
  {
   "cell_type": "code",
   "execution_count": null,
   "id": "cd2a1795",
   "metadata": {},
   "outputs": [
    {
     "ename": "",
     "evalue": "",
     "output_type": "error",
     "traceback": [
      "\u001b[1;31mRunning cells with 'd:\\EndTOENDML\\BOSTONHOUSE\\venv\\python.exe' requires ipykernel package.\n",
      "\u001b[1;31mRun the following command to install 'ipykernel' into the Python environment. \n",
      "\u001b[1;31mCommand: 'conda install -p d:\\EndTOENDML\\BOSTONHOUSE\\venv ipykernel --update-deps --force-reinstall'"
     ]
    }
   ],
   "source": [
    "y.head()\n"
   ]
  },
  {
   "cell_type": "code",
   "execution_count": null,
   "id": "2864c689",
   "metadata": {},
   "outputs": [
    {
     "ename": "",
     "evalue": "",
     "output_type": "error",
     "traceback": [
      "\u001b[1;31mRunning cells with 'd:\\EndTOENDML\\BOSTONHOUSE\\venv\\python.exe' requires ipykernel package.\n",
      "\u001b[1;31mRun the following command to install 'ipykernel' into the Python environment. \n",
      "\u001b[1;31mCommand: 'conda install -p d:\\EndTOENDML\\BOSTONHOUSE\\venv ipykernel --update-deps --force-reinstall'"
     ]
    }
   ],
   "source": [
    "## train test split\n",
    "\n",
    "from sklearn.model_selection import train_test_split\n",
    "x_train,x_test,y_train,y_test=train_test_split(x,y,test_size=0.3,random_state=42)\n"
   ]
  },
  {
   "cell_type": "code",
   "execution_count": null,
   "id": "12ba2aa0",
   "metadata": {},
   "outputs": [
    {
     "ename": "",
     "evalue": "",
     "output_type": "error",
     "traceback": [
      "\u001b[1;31mRunning cells with 'd:\\EndTOENDML\\BOSTONHOUSE\\venv\\python.exe' requires ipykernel package.\n",
      "\u001b[1;31mRun the following command to install 'ipykernel' into the Python environment. \n",
      "\u001b[1;31mCommand: 'conda install -p d:\\EndTOENDML\\BOSTONHOUSE\\venv ipykernel --update-deps --force-reinstall'"
     ]
    }
   ],
   "source": [
    "x_train\n"
   ]
  },
  {
   "cell_type": "code",
   "execution_count": null,
   "id": "dd744cac",
   "metadata": {},
   "outputs": [
    {
     "ename": "",
     "evalue": "",
     "output_type": "error",
     "traceback": [
      "\u001b[1;31mRunning cells with 'd:\\EndTOENDML\\BOSTONHOUSE\\venv\\python.exe' requires ipykernel package.\n",
      "\u001b[1;31mRun the following command to install 'ipykernel' into the Python environment. \n",
      "\u001b[1;31mCommand: 'conda install -p d:\\EndTOENDML\\BOSTONHOUSE\\venv ipykernel --update-deps --force-reinstall'"
     ]
    }
   ],
   "source": [
    "x_test"
   ]
  },
  {
   "cell_type": "code",
   "execution_count": null,
   "id": "21482bf9",
   "metadata": {},
   "outputs": [
    {
     "ename": "",
     "evalue": "",
     "output_type": "error",
     "traceback": [
      "\u001b[1;31mRunning cells with 'd:\\EndTOENDML\\BOSTONHOUSE\\venv\\python.exe' requires ipykernel package.\n",
      "\u001b[1;31mRun the following command to install 'ipykernel' into the Python environment. \n",
      "\u001b[1;31mCommand: 'conda install -p d:\\EndTOENDML\\BOSTONHOUSE\\venv ipykernel --update-deps --force-reinstall'"
     ]
    }
   ],
   "source": [
    "# standardizing the dataset\n",
    "\n",
    "from sklearn.preprocessing import StandardScaler\n",
    "scaler=StandardScaler()\n"
   ]
  },
  {
   "cell_type": "code",
   "execution_count": null,
   "id": "cc7f4cad",
   "metadata": {},
   "outputs": [
    {
     "ename": "",
     "evalue": "",
     "output_type": "error",
     "traceback": [
      "\u001b[1;31mRunning cells with 'd:\\EndTOENDML\\BOSTONHOUSE\\venv\\python.exe' requires ipykernel package.\n",
      "\u001b[1;31mRun the following command to install 'ipykernel' into the Python environment. \n",
      "\u001b[1;31mCommand: 'conda install -p d:\\EndTOENDML\\BOSTONHOUSE\\venv ipykernel --update-deps --force-reinstall'"
     ]
    }
   ],
   "source": [
    "x_train=scaler.fit_transform(x_train)\n"
   ]
  },
  {
   "cell_type": "code",
   "execution_count": null,
   "id": "5c90cb4f",
   "metadata": {},
   "outputs": [
    {
     "ename": "",
     "evalue": "",
     "output_type": "error",
     "traceback": [
      "\u001b[1;31mRunning cells with 'd:\\EndTOENDML\\BOSTONHOUSE\\venv\\python.exe' requires ipykernel package.\n",
      "\u001b[1;31mRun the following command to install 'ipykernel' into the Python environment. \n",
      "\u001b[1;31mCommand: 'conda install -p d:\\EndTOENDML\\BOSTONHOUSE\\venv ipykernel --update-deps --force-reinstall'"
     ]
    }
   ],
   "source": [
    "x_test=scaler.transform(x_test)\n"
   ]
  },
  {
   "cell_type": "code",
   "execution_count": null,
   "id": "ae61b377",
   "metadata": {},
   "outputs": [
    {
     "ename": "",
     "evalue": "",
     "output_type": "error",
     "traceback": [
      "\u001b[1;31mRunning cells with 'd:\\EndTOENDML\\BOSTONHOUSE\\venv\\python.exe' requires ipykernel package.\n",
      "\u001b[1;31mRun the following command to install 'ipykernel' into the Python environment. \n",
      "\u001b[1;31mCommand: 'conda install -p d:\\EndTOENDML\\BOSTONHOUSE\\venv ipykernel --update-deps --force-reinstall'"
     ]
    }
   ],
   "source": [
    "x_train"
   ]
  },
  {
   "cell_type": "code",
   "execution_count": null,
   "id": "c14016c9",
   "metadata": {},
   "outputs": [
    {
     "ename": "",
     "evalue": "",
     "output_type": "error",
     "traceback": [
      "\u001b[1;31mRunning cells with 'd:\\EndTOENDML\\BOSTONHOUSE\\venv\\python.exe' requires ipykernel package.\n",
      "\u001b[1;31mRun the following command to install 'ipykernel' into the Python environment. \n",
      "\u001b[1;31mCommand: 'conda install -p d:\\EndTOENDML\\BOSTONHOUSE\\venv ipykernel --update-deps --force-reinstall'"
     ]
    }
   ],
   "source": [
    "x_test"
   ]
  },
  {
   "cell_type": "markdown",
   "id": "48525920",
   "metadata": {},
   "source": [
    "## MODEL TRAINING\n"
   ]
  },
  {
   "cell_type": "code",
   "execution_count": null,
   "id": "31b0b447",
   "metadata": {},
   "outputs": [
    {
     "ename": "",
     "evalue": "",
     "output_type": "error",
     "traceback": [
      "\u001b[1;31mRunning cells with 'd:\\EndTOENDML\\BOSTONHOUSE\\venv\\python.exe' requires ipykernel package.\n",
      "\u001b[1;31mRun the following command to install 'ipykernel' into the Python environment. \n",
      "\u001b[1;31mCommand: 'conda install -p d:\\EndTOENDML\\BOSTONHOUSE\\venv ipykernel --update-deps --force-reinstall'"
     ]
    }
   ],
   "source": [
    "from sklearn.linear_model import LinearRegression\n"
   ]
  },
  {
   "cell_type": "code",
   "execution_count": null,
   "id": "f1fbb628",
   "metadata": {},
   "outputs": [
    {
     "ename": "",
     "evalue": "",
     "output_type": "error",
     "traceback": [
      "\u001b[1;31mRunning cells with 'd:\\EndTOENDML\\BOSTONHOUSE\\venv\\python.exe' requires ipykernel package.\n",
      "\u001b[1;31mRun the following command to install 'ipykernel' into the Python environment. \n",
      "\u001b[1;31mCommand: 'conda install -p d:\\EndTOENDML\\BOSTONHOUSE\\venv ipykernel --update-deps --force-reinstall'"
     ]
    }
   ],
   "source": [
    "regression=LinearRegression()\n"
   ]
  },
  {
   "cell_type": "code",
   "execution_count": null,
   "id": "d1a79f11",
   "metadata": {},
   "outputs": [
    {
     "ename": "",
     "evalue": "",
     "output_type": "error",
     "traceback": [
      "\u001b[1;31mRunning cells with 'd:\\EndTOENDML\\BOSTONHOUSE\\venv\\python.exe' requires ipykernel package.\n",
      "\u001b[1;31mRun the following command to install 'ipykernel' into the Python environment. \n",
      "\u001b[1;31mCommand: 'conda install -p d:\\EndTOENDML\\BOSTONHOUSE\\venv ipykernel --update-deps --force-reinstall'"
     ]
    }
   ],
   "source": [
    "regression.fit(x_train,y_train)\n"
   ]
  },
  {
   "cell_type": "code",
   "execution_count": null,
   "id": "07337b61",
   "metadata": {},
   "outputs": [
    {
     "ename": "",
     "evalue": "",
     "output_type": "error",
     "traceback": [
      "\u001b[1;31mRunning cells with 'd:\\EndTOENDML\\BOSTONHOUSE\\venv\\python.exe' requires ipykernel package.\n",
      "\u001b[1;31mRun the following command to install 'ipykernel' into the Python environment. \n",
      "\u001b[1;31mCommand: 'conda install -p d:\\EndTOENDML\\BOSTONHOUSE\\venv ipykernel --update-deps --force-reinstall'"
     ]
    }
   ],
   "source": [
    "# print cofficients and the intercept\n",
    "regression.coef_"
   ]
  },
  {
   "cell_type": "code",
   "execution_count": null,
   "id": "a73337cf",
   "metadata": {},
   "outputs": [
    {
     "ename": "",
     "evalue": "",
     "output_type": "error",
     "traceback": [
      "\u001b[1;31mRunning cells with 'd:\\EndTOENDML\\BOSTONHOUSE\\venv\\python.exe' requires ipykernel package.\n",
      "\u001b[1;31mRun the following command to install 'ipykernel' into the Python environment. \n",
      "\u001b[1;31mCommand: 'conda install -p d:\\EndTOENDML\\BOSTONHOUSE\\venv ipykernel --update-deps --force-reinstall'"
     ]
    }
   ],
   "source": [
    "regression.intercept_\n"
   ]
  },
  {
   "cell_type": "code",
   "execution_count": null,
   "id": "fb3002e7",
   "metadata": {},
   "outputs": [
    {
     "ename": "",
     "evalue": "",
     "output_type": "error",
     "traceback": [
      "\u001b[1;31mRunning cells with 'd:\\EndTOENDML\\BOSTONHOUSE\\venv\\python.exe' requires ipykernel package.\n",
      "\u001b[1;31mRun the following command to install 'ipykernel' into the Python environment. \n",
      "\u001b[1;31mCommand: 'conda install -p d:\\EndTOENDML\\BOSTONHOUSE\\venv ipykernel --update-deps --force-reinstall'"
     ]
    }
   ],
   "source": [
    "## on which parameter the model has been trained\n",
    "\n",
    "regression.get_params()"
   ]
  },
  {
   "cell_type": "code",
   "execution_count": null,
   "id": "5a5a03dc",
   "metadata": {},
   "outputs": [
    {
     "ename": "",
     "evalue": "",
     "output_type": "error",
     "traceback": [
      "\u001b[1;31mRunning cells with 'd:\\EndTOENDML\\BOSTONHOUSE\\venv\\python.exe' requires ipykernel package.\n",
      "\u001b[1;31mRun the following command to install 'ipykernel' into the Python environment. \n",
      "\u001b[1;31mCommand: 'conda install -p d:\\EndTOENDML\\BOSTONHOUSE\\venv ipykernel --update-deps --force-reinstall'"
     ]
    }
   ],
   "source": [
    "## prediction with test data\n",
    "\n",
    "reg_pred=regression.predict(x_test)"
   ]
  },
  {
   "cell_type": "code",
   "execution_count": null,
   "id": "3dd2e205",
   "metadata": {},
   "outputs": [
    {
     "ename": "",
     "evalue": "",
     "output_type": "error",
     "traceback": [
      "\u001b[1;31mRunning cells with 'd:\\EndTOENDML\\BOSTONHOUSE\\venv\\python.exe' requires ipykernel package.\n",
      "\u001b[1;31mRun the following command to install 'ipykernel' into the Python environment. \n",
      "\u001b[1;31mCommand: 'conda install -p d:\\EndTOENDML\\BOSTONHOUSE\\venv ipykernel --update-deps --force-reinstall'"
     ]
    }
   ],
   "source": [
    "reg_pred"
   ]
  },
  {
   "cell_type": "code",
   "execution_count": null,
   "id": "13d40024",
   "metadata": {},
   "outputs": [
    {
     "ename": "",
     "evalue": "",
     "output_type": "error",
     "traceback": [
      "\u001b[1;31mRunning cells with 'd:\\EndTOENDML\\BOSTONHOUSE\\venv\\python.exe' requires ipykernel package.\n",
      "\u001b[1;31mRun the following command to install 'ipykernel' into the Python environment. \n",
      "\u001b[1;31mCommand: 'conda install -p d:\\EndTOENDML\\BOSTONHOUSE\\venv ipykernel --update-deps --force-reinstall'"
     ]
    }
   ],
   "source": [
    "## plot s scatter plot for the prediction\n",
    "\n",
    "plt.scatter(y_test,reg_pred)\n"
   ]
  },
  {
   "cell_type": "code",
   "execution_count": null,
   "id": "9abbd34f",
   "metadata": {},
   "outputs": [
    {
     "ename": "",
     "evalue": "",
     "output_type": "error",
     "traceback": [
      "\u001b[1;31mRunning cells with 'd:\\EndTOENDML\\BOSTONHOUSE\\venv\\python.exe' requires ipykernel package.\n",
      "\u001b[1;31mRun the following command to install 'ipykernel' into the Python environment. \n",
      "\u001b[1;31mCommand: 'conda install -p d:\\EndTOENDML\\BOSTONHOUSE\\venv ipykernel --update-deps --force-reinstall'"
     ]
    }
   ],
   "source": [
    "# residual\n",
    "residual=y_test-reg_pred"
   ]
  },
  {
   "cell_type": "code",
   "execution_count": null,
   "id": "57bc035f",
   "metadata": {},
   "outputs": [
    {
     "ename": "",
     "evalue": "",
     "output_type": "error",
     "traceback": [
      "\u001b[1;31mRunning cells with 'd:\\EndTOENDML\\BOSTONHOUSE\\venv\\python.exe' requires ipykernel package.\n",
      "\u001b[1;31mRun the following command to install 'ipykernel' into the Python environment. \n",
      "\u001b[1;31mCommand: 'conda install -p d:\\EndTOENDML\\BOSTONHOUSE\\venv ipykernel --update-deps --force-reinstall'"
     ]
    }
   ],
   "source": [
    "residual"
   ]
  },
  {
   "cell_type": "code",
   "execution_count": null,
   "id": "673b63e0",
   "metadata": {},
   "outputs": [
    {
     "ename": "",
     "evalue": "",
     "output_type": "error",
     "traceback": [
      "\u001b[1;31mRunning cells with 'd:\\EndTOENDML\\BOSTONHOUSE\\venv\\python.exe' requires ipykernel package.\n",
      "\u001b[1;31mRun the following command to install 'ipykernel' into the Python environment. \n",
      "\u001b[1;31mCommand: 'conda install -p d:\\EndTOENDML\\BOSTONHOUSE\\venv ipykernel --update-deps --force-reinstall'"
     ]
    }
   ],
   "source": [
    "## ploting residual\n",
    "\n",
    "sns.displot(residual,kind=\"kde\")\n"
   ]
  },
  {
   "cell_type": "code",
   "execution_count": null,
   "id": "c9404229",
   "metadata": {},
   "outputs": [
    {
     "ename": "",
     "evalue": "",
     "output_type": "error",
     "traceback": [
      "\u001b[1;31mRunning cells with 'd:\\EndTOENDML\\BOSTONHOUSE\\venv\\python.exe' requires ipykernel package.\n",
      "\u001b[1;31mRun the following command to install 'ipykernel' into the Python environment. \n",
      "\u001b[1;31mCommand: 'conda install -p d:\\EndTOENDML\\BOSTONHOUSE\\venv ipykernel --update-deps --force-reinstall'"
     ]
    }
   ],
   "source": [
    "## scatter plot with respect to resiual and prediction\n",
    "## uniform distribuation\n",
    "\n",
    "plt.scatter(reg_pred,residual)"
   ]
  },
  {
   "cell_type": "code",
   "execution_count": null,
   "id": "357cd954",
   "metadata": {},
   "outputs": [
    {
     "ename": "",
     "evalue": "",
     "output_type": "error",
     "traceback": [
      "\u001b[1;31mRunning cells with 'd:\\EndTOENDML\\BOSTONHOUSE\\venv\\python.exe' requires ipykernel package.\n",
      "\u001b[1;31mRun the following command to install 'ipykernel' into the Python environment. \n",
      "\u001b[1;31mCommand: 'conda install -p d:\\EndTOENDML\\BOSTONHOUSE\\venv ipykernel --update-deps --force-reinstall'"
     ]
    }
   ],
   "source": [
    "# perfoming matrics\n",
    "from sklearn.metrics import mean_squared_error\n",
    "from sklearn.metrics import mean_absolute_error\n",
    "\n",
    "print(mean_absolute_error(y_test,reg_pred))\n",
    "print(mean_squared_error(y_test,reg_pred))\n",
    "print(np.sqrt(mean_squared_error(y_test,reg_pred)))"
   ]
  },
  {
   "cell_type": "code",
   "execution_count": null,
   "id": "6becf237",
   "metadata": {},
   "outputs": [
    {
     "ename": "",
     "evalue": "",
     "output_type": "error",
     "traceback": [
      "\u001b[1;31mRunning cells with 'd:\\EndTOENDML\\BOSTONHOUSE\\venv\\python.exe' requires ipykernel package.\n",
      "\u001b[1;31mRun the following command to install 'ipykernel' into the Python environment. \n",
      "\u001b[1;31mCommand: 'conda install -p d:\\EndTOENDML\\BOSTONHOUSE\\venv ipykernel --update-deps --force-reinstall'"
     ]
    }
   ],
   "source": [
    "# r suare and adjusted r square\n",
    "from sklearn.metrics import r2_score\n",
    "score=r2_score(y_test,reg_pred)\n",
    "score\n"
   ]
  },
  {
   "cell_type": "code",
   "execution_count": null,
   "id": "0626c8d9",
   "metadata": {},
   "outputs": [
    {
     "ename": "",
     "evalue": "",
     "output_type": "error",
     "traceback": [
      "\u001b[1;31mRunning cells with 'd:\\EndTOENDML\\BOSTONHOUSE\\venv\\python.exe' requires ipykernel package.\n",
      "\u001b[1;31mRun the following command to install 'ipykernel' into the Python environment. \n",
      "\u001b[1;31mCommand: 'conda install -p d:\\EndTOENDML\\BOSTONHOUSE\\venv ipykernel --update-deps --force-reinstall'"
     ]
    }
   ],
   "source": [
    "## for adjusted r2\n",
    "1 - (1-score)*(len(y_test)-1)/(len(y_test)-x_test.shape[1]-1)"
   ]
  },
  {
   "cell_type": "markdown",
   "id": "7dc91592",
   "metadata": {},
   "source": [
    "## NEW DATA PREDICTION\n"
   ]
  },
  {
   "cell_type": "code",
   "execution_count": null,
   "id": "37005c39",
   "metadata": {},
   "outputs": [
    {
     "ename": "",
     "evalue": "",
     "output_type": "error",
     "traceback": [
      "\u001b[1;31mRunning cells with 'd:\\EndTOENDML\\BOSTONHOUSE\\venv\\python.exe' requires ipykernel package.\n",
      "\u001b[1;31mRun the following command to install 'ipykernel' into the Python environment. \n",
      "\u001b[1;31mCommand: 'conda install -p d:\\EndTOENDML\\BOSTONHOUSE\\venv ipykernel --update-deps --force-reinstall'"
     ]
    }
   ],
   "source": [
    "boston.data[0].reshape(1,-1).shape\n"
   ]
  },
  {
   "cell_type": "code",
   "execution_count": null,
   "id": "61c820c7",
   "metadata": {},
   "outputs": [
    {
     "ename": "",
     "evalue": "",
     "output_type": "error",
     "traceback": [
      "\u001b[1;31mRunning cells with 'd:\\EndTOENDML\\BOSTONHOUSE\\venv\\python.exe' requires ipykernel package.\n",
      "\u001b[1;31mRun the following command to install 'ipykernel' into the Python environment. \n",
      "\u001b[1;31mCommand: 'conda install -p d:\\EndTOENDML\\BOSTONHOUSE\\venv ipykernel --update-deps --force-reinstall'"
     ]
    }
   ],
   "source": [
    "# donot forget standardization \n",
    "scaler.transform(boston.data[0].reshape(1,-1))"
   ]
  },
  {
   "cell_type": "code",
   "execution_count": null,
   "id": "d7cbb5bf",
   "metadata": {},
   "outputs": [
    {
     "ename": "",
     "evalue": "",
     "output_type": "error",
     "traceback": [
      "\u001b[1;31mRunning cells with 'd:\\EndTOENDML\\BOSTONHOUSE\\venv\\python.exe' requires ipykernel package.\n",
      "\u001b[1;31mRun the following command to install 'ipykernel' into the Python environment. \n",
      "\u001b[1;31mCommand: 'conda install -p d:\\EndTOENDML\\BOSTONHOUSE\\venv ipykernel --update-deps --force-reinstall'"
     ]
    }
   ],
   "source": [
    "regression.predict(scaler.transform(boston.data[0].reshape(1,-1)))\n"
   ]
  },
  {
   "cell_type": "markdown",
   "id": "3bf7d900",
   "metadata": {},
   "source": [
    "## Pickling The Model File For Deployment\n"
   ]
  },
  {
   "cell_type": "code",
   "execution_count": null,
   "id": "d24392f7",
   "metadata": {},
   "outputs": [
    {
     "ename": "",
     "evalue": "",
     "output_type": "error",
     "traceback": [
      "\u001b[1;31mRunning cells with 'd:\\EndTOENDML\\BOSTONHOUSE\\venv\\python.exe' requires ipykernel package.\n",
      "\u001b[1;31mRun the following command to install 'ipykernel' into the Python environment. \n",
      "\u001b[1;31mCommand: 'conda install -p d:\\EndTOENDML\\BOSTONHOUSE\\venv ipykernel --update-deps --force-reinstall'"
     ]
    }
   ],
   "source": [
    "import pickle"
   ]
  },
  {
   "cell_type": "code",
   "execution_count": null,
   "id": "bff5110f",
   "metadata": {},
   "outputs": [
    {
     "ename": "",
     "evalue": "",
     "output_type": "error",
     "traceback": [
      "\u001b[1;31mRunning cells with 'd:\\EndTOENDML\\BOSTONHOUSE\\venv\\python.exe' requires ipykernel package.\n",
      "\u001b[1;31mRun the following command to install 'ipykernel' into the Python environment. \n",
      "\u001b[1;31mCommand: 'conda install -p d:\\EndTOENDML\\BOSTONHOUSE\\venv ipykernel --update-deps --force-reinstall'"
     ]
    }
   ],
   "source": [
    "pickle.dump(regression,open('regmodel.pkl','wb'))\n"
   ]
  },
  {
   "cell_type": "code",
   "execution_count": null,
   "id": "1727e9aa",
   "metadata": {},
   "outputs": [
    {
     "ename": "",
     "evalue": "",
     "output_type": "error",
     "traceback": [
      "\u001b[1;31mRunning cells with 'd:\\EndTOENDML\\BOSTONHOUSE\\venv\\python.exe' requires ipykernel package.\n",
      "\u001b[1;31mRun the following command to install 'ipykernel' into the Python environment. \n",
      "\u001b[1;31mCommand: 'conda install -p d:\\EndTOENDML\\BOSTONHOUSE\\venv ipykernel --update-deps --force-reinstall'"
     ]
    }
   ],
   "source": [
    "pickled_model=pickle.load(open('regmodel.pkl','rb'))\n"
   ]
  },
  {
   "cell_type": "code",
   "execution_count": null,
   "id": "af2bd937",
   "metadata": {},
   "outputs": [
    {
     "ename": "",
     "evalue": "",
     "output_type": "error",
     "traceback": [
      "\u001b[1;31mRunning cells with 'd:\\EndTOENDML\\BOSTONHOUSE\\venv\\python.exe' requires ipykernel package.\n",
      "\u001b[1;31mRun the following command to install 'ipykernel' into the Python environment. \n",
      "\u001b[1;31mCommand: 'conda install -p d:\\EndTOENDML\\BOSTONHOUSE\\venv ipykernel --update-deps --force-reinstall'"
     ]
    }
   ],
   "source": [
    "## prediction\n",
    "pickled_model.predict(scaler.transform(boston.data[0].reshape(1,-1)))"
   ]
  },
  {
   "cell_type": "code",
   "execution_count": null,
   "id": "b8f3986d",
   "metadata": {},
   "outputs": [
    {
     "ename": "",
     "evalue": "",
     "output_type": "error",
     "traceback": [
      "\u001b[1;31mRunning cells with 'd:\\EndTOENDML\\BOSTONHOUSE\\venv\\python.exe' requires ipykernel package.\n",
      "\u001b[1;31mRun the following command to install 'ipykernel' into the Python environment. \n",
      "\u001b[1;31mCommand: 'conda install -p d:\\EndTOENDML\\BOSTONHOUSE\\venv ipykernel --update-deps --force-reinstall'"
     ]
    }
   ],
   "source": []
  }
 ],
 "metadata": {
  "kernelspec": {
   "display_name": "Python 3",
   "language": "python",
   "name": "python3"
  },
  "language_info": {
   "codemirror_mode": {
    "name": "ipython",
    "version": 3
   },
   "file_extension": ".py",
   "mimetype": "text/x-python",
   "name": "python",
   "nbconvert_exporter": "python",
   "pygments_lexer": "ipython3",
   "version": "3.7.0 (default, Jun 28 2018, 08:04:48) [MSC v.1912 64 bit (AMD64)]"
  },
  "vscode": {
   "interpreter": {
    "hash": "af07372874473cd4e66c8069360dfb67bf071d7f1f03907e57556b47e9d245f0"
   }
  }
 },
 "nbformat": 4,
 "nbformat_minor": 5
}
